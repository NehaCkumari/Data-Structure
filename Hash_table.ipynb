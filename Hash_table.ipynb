{
 "cells": [
  {
   "cell_type": "code",
   "execution_count": 13,
   "metadata": {},
   "outputs": [],
   "source": [
    "class HashTable:\n",
    "    def __init__(self):\n",
    "        self.size=100\n",
    "        self.arr=[None for i in range(self.size)]\n",
    "        \n",
    "    def getint(self,key):\n",
    "        h=0\n",
    "        for char in key:\n",
    "            h+=ord(char)\n",
    "        return h%self.size\n",
    "    \n",
    "    def addValue(self,key,value):\n",
    "        h=self.getint(key)\n",
    "        self.arr[h]=value\n",
    "    \n",
    "    def getValue(self,key):\n",
    "        h=self.getint(key)\n",
    "        return self.arr[h]\n",
    "    \n",
    "    def deleteValue(self,key):\n",
    "        h=self.getint(key)\n",
    "        self.arr[h]=None\n",
    "        \n",
    "            "
   ]
  },
  {
   "cell_type": "code",
   "execution_count": 14,
   "metadata": {},
   "outputs": [
    {
     "data": {
      "text/plain": [
       "100"
      ]
     },
     "execution_count": 14,
     "metadata": {},
     "output_type": "execute_result"
    }
   ],
   "source": [
    "a=HashTable()\n",
    "a.getint(\"march 6\")\n",
    "a.addValue(\"march 6\",100)\n",
    "a.getValue(\"march 6\")\n",
    "a.arr\n",
    "a.deleteValue(\"march 6\")"
   ]
  },
  {
   "cell_type": "markdown",
   "metadata": {},
   "source": [
    "Hash table with collision"
   ]
  },
  {
   "cell_type": "code",
   "execution_count": 118,
   "metadata": {},
   "outputs": [],
   "source": [
    "class HashTableCollision:\n",
    "    def __init__(self):\n",
    "        self.size=10\n",
    "        self.arr=[[] for i in range(self.size)]\n",
    "        \n",
    "    def gethash(self,key):\n",
    "        h=0\n",
    "        for char in key:\n",
    "            h+=ord(char)\n",
    "        return h%self.size\n",
    "    \n",
    "    def addValue(self,key,value):\n",
    "        h=self.gethash(key)\n",
    "        self.arr[h].append((key,value))\n",
    "        \n",
    "    def getValue(self,key):\n",
    "        h=self.gethash(key)\n",
    "        for element in self.arr[h]:\n",
    "            if element[0]==key:\n",
    "                return element[1]\n",
    "    \n",
    "    def delete(self,key):\n",
    "        h=self.gethash(key)\n",
    "        for element in self.arr[h]:\n",
    "            if element[0]==key:\n",
    "                self.arr[h].remove(element)\n",
    "                \n",
    "            \n",
    "            \n",
    "        \n",
    "    "
   ]
  },
  {
   "cell_type": "code",
   "execution_count": 119,
   "metadata": {},
   "outputs": [],
   "source": [
    "b=HashTableCollision()\n"
   ]
  },
  {
   "cell_type": "code",
   "execution_count": 120,
   "metadata": {},
   "outputs": [],
   "source": [
    "b.addValue(\"march 6\",111)\n",
    "b.addValue(\"march 4\",102)"
   ]
  },
  {
   "cell_type": "code",
   "execution_count": 121,
   "metadata": {},
   "outputs": [],
   "source": [
    "b.addValue(\"march 17\",100)"
   ]
  },
  {
   "cell_type": "code",
   "execution_count": 122,
   "metadata": {},
   "outputs": [
    {
     "data": {
      "text/plain": [
       "[[],\n",
       " [],\n",
       " [],\n",
       " [],\n",
       " [],\n",
       " [],\n",
       " [],\n",
       " [('march 4', 102)],\n",
       " [],\n",
       " [('march 6', 111), ('march 17', 100)]]"
      ]
     },
     "execution_count": 122,
     "metadata": {},
     "output_type": "execute_result"
    }
   ],
   "source": [
    "b.arr"
   ]
  },
  {
   "cell_type": "code",
   "execution_count": 123,
   "metadata": {},
   "outputs": [
    {
     "data": {
      "text/plain": [
       "9"
      ]
     },
     "execution_count": 123,
     "metadata": {},
     "output_type": "execute_result"
    }
   ],
   "source": [
    "b.gethash(\"march 6\")"
   ]
  },
  {
   "cell_type": "code",
   "execution_count": 124,
   "metadata": {},
   "outputs": [
    {
     "name": "stdout",
     "output_type": "stream",
     "text": [
      "None\n"
     ]
    }
   ],
   "source": [
    "print(b.getValue(\"march 3\"))"
   ]
  },
  {
   "cell_type": "code",
   "execution_count": 125,
   "metadata": {},
   "outputs": [],
   "source": [
    "b.delete(\"march 6\")"
   ]
  },
  {
   "cell_type": "code",
   "execution_count": 126,
   "metadata": {},
   "outputs": [
    {
     "data": {
      "text/plain": [
       "[[], [], [], [], [], [], [], [('march 4', 102)], [], [('march 17', 100)]]"
      ]
     },
     "execution_count": 126,
     "metadata": {},
     "output_type": "execute_result"
    }
   ],
   "source": [
    "b.arr"
   ]
  },
  {
   "cell_type": "code",
   "execution_count": null,
   "metadata": {},
   "outputs": [],
   "source": []
  }
 ],
 "metadata": {
  "kernelspec": {
   "display_name": "Python 3",
   "language": "python",
   "name": "python3"
  },
  "language_info": {
   "codemirror_mode": {
    "name": "ipython",
    "version": 3
   },
   "file_extension": ".py",
   "mimetype": "text/x-python",
   "name": "python",
   "nbconvert_exporter": "python",
   "pygments_lexer": "ipython3",
   "version": "3.7.6"
  }
 },
 "nbformat": 4,
 "nbformat_minor": 2
}
